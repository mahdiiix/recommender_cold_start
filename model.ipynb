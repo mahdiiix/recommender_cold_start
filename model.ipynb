{
 "cells": [
  {
   "cell_type": "code",
   "execution_count": 1,
   "id": "0977b1b4-33aa-4826-8234-4d7b074d0ee9",
   "metadata": {},
   "outputs": [],
   "source": [
    "import pandas as pd\n",
    "from sklearn.model_selection import train_test_split\n",
    "from sklearn.ensemble import RandomForestClassifier\n",
    "from sklearn.metrics import accuracy_score, recall_score, precision_score, f1_score"
   ]
  },
  {
   "cell_type": "code",
   "execution_count": 2,
   "id": "c304b2be-b7fd-469d-a1ea-804c6497ed09",
   "metadata": {},
   "outputs": [],
   "source": [
    "def train_metric_group(grp):\n",
    "    X_train, X_test, y_train, y_test = train_test_split(\n",
    "        grp.drop(columns=[\"id\", \"film_id\", \"rate\", \"label\"]),\n",
    "        grp.label,\n",
    "        test_size=0.2,\n",
    "        stratify=grp.label,\n",
    "        random_state=42,\n",
    "    )\n",
    "    model = RandomForestClassifier(n_jobs=-1)\n",
    "    model.fit(X_train, y_train)\n",
    "    y_pred = model.predict(X_test)\n",
    "    return pd.Series(\n",
    "        {\n",
    "            \"accuracy\": accuracy_score(y_test, y_pred),\n",
    "            \"precision\": precision_score(y_test, y_pred),\n",
    "            \"recall\": recall_score(y_test, y_pred),\n",
    "            \"f1\": f1_score(y_test, y_pred),\n",
    "        }\n",
    "    )"
   ]
  },
  {
   "cell_type": "code",
   "execution_count": 3,
   "id": "fd03d7cf-b9f3-4588-909a-b9188e71d97b",
   "metadata": {},
   "outputs": [],
   "source": [
    "df = pd.read_csv(\"dataset.csv\", index_col=0)"
   ]
  },
  {
   "cell_type": "code",
   "execution_count": 4,
   "id": "440f7963-c248-49af-a40a-dfb0c8967fe1",
   "metadata": {},
   "outputs": [],
   "source": [
    "films_num_rates = df.film_id.value_counts()"
   ]
  },
  {
   "cell_type": "code",
   "execution_count": 5,
   "id": "aee4a25a-4525-408c-bdb0-1c1591a3af8c",
   "metadata": {},
   "outputs": [],
   "source": [
    "df_over_500_rates = df[df.film_id.isin(films_num_rates[films_num_rates >= 500].index)]"
   ]
  },
  {
   "cell_type": "code",
   "execution_count": 6,
   "id": "a7a9c0ca-42f2-4215-90d3-0c7dcc0f6d76",
   "metadata": {},
   "outputs": [],
   "source": [
    "df_over_500_rates = df_over_500_rates.assign(label=0)\n",
    "df_over_500_rates.loc[(df_over_500_rates.rate >= 7), \"label\"] = 1"
   ]
  },
  {
   "cell_type": "code",
   "execution_count": 7,
   "id": "aef6bd17-6894-4a62-8d28-e72ec59d00ca",
   "metadata": {
    "tags": []
   },
   "outputs": [],
   "source": [
    "result = df_over_500_rates.groupby(\"film_id\").apply(train_metric_group)"
   ]
  },
  {
   "cell_type": "code",
   "execution_count": 8,
   "id": "d466502b-c322-403d-a1be-f64cfda6515a",
   "metadata": {},
   "outputs": [],
   "source": [
    "result.to_csv(\"result.csv\")"
   ]
  },
  {
   "cell_type": "code",
   "execution_count": 9,
   "id": "326b3a2c-3099-41f0-a34b-6c57509f58be",
   "metadata": {},
   "outputs": [
    {
     "data": {
      "text/html": [
       "<div>\n",
       "<style scoped>\n",
       "    .dataframe tbody tr th:only-of-type {\n",
       "        vertical-align: middle;\n",
       "    }\n",
       "\n",
       "    .dataframe tbody tr th {\n",
       "        vertical-align: top;\n",
       "    }\n",
       "\n",
       "    .dataframe thead th {\n",
       "        text-align: right;\n",
       "    }\n",
       "</style>\n",
       "<table border=\"1\" class=\"dataframe\">\n",
       "  <thead>\n",
       "    <tr style=\"text-align: right;\">\n",
       "      <th></th>\n",
       "      <th>accuracy</th>\n",
       "      <th>precision</th>\n",
       "      <th>recall</th>\n",
       "      <th>f1</th>\n",
       "    </tr>\n",
       "    <tr>\n",
       "      <th>film_id</th>\n",
       "      <th></th>\n",
       "      <th></th>\n",
       "      <th></th>\n",
       "      <th></th>\n",
       "    </tr>\n",
       "  </thead>\n",
       "  <tbody>\n",
       "    <tr>\n",
       "      <th>111161</th>\n",
       "      <td>0.982456</td>\n",
       "      <td>0.982456</td>\n",
       "      <td>1.000000</td>\n",
       "      <td>0.991150</td>\n",
       "    </tr>\n",
       "    <tr>\n",
       "      <th>359950</th>\n",
       "      <td>0.816176</td>\n",
       "      <td>0.822222</td>\n",
       "      <td>0.991071</td>\n",
       "      <td>0.898785</td>\n",
       "    </tr>\n",
       "    <tr>\n",
       "      <th>369610</th>\n",
       "      <td>0.729167</td>\n",
       "      <td>0.748201</td>\n",
       "      <td>0.962963</td>\n",
       "      <td>0.842105</td>\n",
       "    </tr>\n",
       "    <tr>\n",
       "      <th>451279</th>\n",
       "      <td>0.774194</td>\n",
       "      <td>0.774194</td>\n",
       "      <td>1.000000</td>\n",
       "      <td>0.872727</td>\n",
       "    </tr>\n",
       "    <tr>\n",
       "      <th>454876</th>\n",
       "      <td>0.906542</td>\n",
       "      <td>0.906542</td>\n",
       "      <td>1.000000</td>\n",
       "      <td>0.950980</td>\n",
       "    </tr>\n",
       "    <tr>\n",
       "      <th>...</th>\n",
       "      <td>...</td>\n",
       "      <td>...</td>\n",
       "      <td>...</td>\n",
       "      <td>...</td>\n",
       "    </tr>\n",
       "    <tr>\n",
       "      <th>7286456</th>\n",
       "      <td>0.946128</td>\n",
       "      <td>0.945946</td>\n",
       "      <td>1.000000</td>\n",
       "      <td>0.972222</td>\n",
       "    </tr>\n",
       "    <tr>\n",
       "      <th>7653254</th>\n",
       "      <td>0.904762</td>\n",
       "      <td>0.901961</td>\n",
       "      <td>1.000000</td>\n",
       "      <td>0.948454</td>\n",
       "    </tr>\n",
       "    <tr>\n",
       "      <th>8367814</th>\n",
       "      <td>0.941176</td>\n",
       "      <td>0.940741</td>\n",
       "      <td>1.000000</td>\n",
       "      <td>0.969466</td>\n",
       "    </tr>\n",
       "    <tr>\n",
       "      <th>8579674</th>\n",
       "      <td>0.964516</td>\n",
       "      <td>0.963816</td>\n",
       "      <td>1.000000</td>\n",
       "      <td>0.981575</td>\n",
       "    </tr>\n",
       "    <tr>\n",
       "      <th>8946378</th>\n",
       "      <td>0.923077</td>\n",
       "      <td>0.923077</td>\n",
       "      <td>1.000000</td>\n",
       "      <td>0.960000</td>\n",
       "    </tr>\n",
       "  </tbody>\n",
       "</table>\n",
       "<p>137 rows × 4 columns</p>\n",
       "</div>"
      ],
      "text/plain": [
       "         accuracy  precision    recall        f1\n",
       "film_id                                         \n",
       "111161   0.982456   0.982456  1.000000  0.991150\n",
       "359950   0.816176   0.822222  0.991071  0.898785\n",
       "369610   0.729167   0.748201  0.962963  0.842105\n",
       "451279   0.774194   0.774194  1.000000  0.872727\n",
       "454876   0.906542   0.906542  1.000000  0.950980\n",
       "...           ...        ...       ...       ...\n",
       "7286456  0.946128   0.945946  1.000000  0.972222\n",
       "7653254  0.904762   0.901961  1.000000  0.948454\n",
       "8367814  0.941176   0.940741  1.000000  0.969466\n",
       "8579674  0.964516   0.963816  1.000000  0.981575\n",
       "8946378  0.923077   0.923077  1.000000  0.960000\n",
       "\n",
       "[137 rows x 4 columns]"
      ]
     },
     "execution_count": 9,
     "metadata": {},
     "output_type": "execute_result"
    }
   ],
   "source": [
    "result"
   ]
  },
  {
   "cell_type": "code",
   "execution_count": 10,
   "id": "fcc57a66-1857-495f-912b-0946789f62e4",
   "metadata": {},
   "outputs": [
    {
     "data": {
      "text/plain": [
       "accuracy     0.821888\n",
       "precision    0.827411\n",
       "recall       0.951665\n",
       "f1           0.883314\n",
       "dtype: float64"
      ]
     },
     "execution_count": 10,
     "metadata": {},
     "output_type": "execute_result"
    }
   ],
   "source": [
    "result.mean()"
   ]
  },
  {
   "cell_type": "code",
   "execution_count": null,
   "id": "81c3c5cb-6839-4ba7-aad1-c6873c633de7",
   "metadata": {},
   "outputs": [],
   "source": []
  }
 ],
 "metadata": {
  "kernelspec": {
   "display_name": "Python 3",
   "language": "python",
   "name": "python3"
  },
  "language_info": {
   "codemirror_mode": {
    "name": "ipython",
    "version": 3
   },
   "file_extension": ".py",
   "mimetype": "text/x-python",
   "name": "python",
   "nbconvert_exporter": "python",
   "pygments_lexer": "ipython3",
   "version": "3.8.5"
  }
 },
 "nbformat": 4,
 "nbformat_minor": 5
}
